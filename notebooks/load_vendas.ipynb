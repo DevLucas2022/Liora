{
 "cells": [
  {
   "cell_type": "code",
   "execution_count": 27,
   "metadata": {},
   "outputs": [],
   "source": [
    "#####################################\n",
    "### Carregar arquivos no supabase ###\n",
    "#####################################"
   ]
  },
  {
   "cell_type": "code",
   "execution_count": 28,
   "metadata": {},
   "outputs": [],
   "source": [
    "# imports\n",
    "from supabase import create_client, Client\n",
    "import pandas as pd\n",
    "import os"
   ]
  },
  {
   "cell_type": "code",
   "execution_count": 29,
   "metadata": {},
   "outputs": [],
   "source": [
    "# Conexão com Supabase\n",
    "url = os.getenv(\"SUPABASE_URL\")\n",
    "key = os.getenv(\"SUPABASE_KEY\")\n",
    "supabase: Client = create_client(url, key)\n"
   ]
  },
  {
   "cell_type": "code",
   "execution_count": 30,
   "metadata": {},
   "outputs": [],
   "source": [
    "# Carregar dados tratados\n",
    "df_to_load = pd.read_csv(\"../data/processed/base_vendas_tratada.csv\")"
   ]
  },
  {
   "cell_type": "code",
   "execution_count": 31,
   "metadata": {},
   "outputs": [],
   "source": [
    "res = supabase.table(\"vendas\").select(\"*\").execute()\n",
    "df_supabase_atual = pd.DataFrame(res.data)"
   ]
  },
  {
   "cell_type": "code",
   "execution_count": 32,
   "metadata": {},
   "outputs": [],
   "source": [
    "chave = [\"Data da Venda\", \"Produto\", \"Cliente\", \"Total (R$)\"]"
   ]
  },
  {
   "cell_type": "code",
   "execution_count": 33,
   "metadata": {},
   "outputs": [],
   "source": [
    "df_merge = df_to_load.merge(df_supabase_atual[chave], on=chave, how=\"left\", indicator=True)\n",
    "df_para_inserir = df_merge[df_merge[\"_merge\"] == \"left_only\"].drop(columns=[\"_merge\"])\n"
   ]
  },
  {
   "cell_type": "code",
   "execution_count": 34,
   "metadata": {},
   "outputs": [
    {
     "name": "stdout",
     "output_type": "stream",
     "text": [
      "📥 Linhas novas detectadas: 0\n"
     ]
    }
   ],
   "source": [
    "print(f\"📥 Linhas novas detectadas: {len(df_para_inserir)}\")\n"
   ]
  },
  {
   "cell_type": "code",
   "execution_count": 35,
   "metadata": {},
   "outputs": [
    {
     "name": "stdout",
     "output_type": "stream",
     "text": [
      "✅ Nenhuma nova linha para inserir.\n"
     ]
    }
   ],
   "source": [
    "# Inserir no Supabase (Em lote)\n",
    "\n",
    "if not df_para_inserir.empty:\n",
    "    df_para_inserir = df_para_inserir.fillna(None)\n",
    "    dados = df_para_inserir.to_dict(orient=\"records\")\n",
    "    supabase.table(\"vendas\").insert(dados).execute()\n",
    "    print(\"✅ Novos dados inseridos com sucesso!\")\n",
    "else:\n",
    "    print(\"✅ Nenhuma nova linha para inserir.\")"
   ]
  }
 ],
 "metadata": {
  "kernelspec": {
   "display_name": "venv",
   "language": "python",
   "name": "python3"
  },
  "language_info": {
   "codemirror_mode": {
    "name": "ipython",
    "version": 3
   },
   "file_extension": ".py",
   "mimetype": "text/x-python",
   "name": "python",
   "nbconvert_exporter": "python",
   "pygments_lexer": "ipython3",
   "version": "3.10.12"
  }
 },
 "nbformat": 4,
 "nbformat_minor": 2
}
