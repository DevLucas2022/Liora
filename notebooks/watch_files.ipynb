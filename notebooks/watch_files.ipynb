{
 "cells": [
  {
   "cell_type": "code",
   "execution_count": 3,
   "metadata": {},
   "outputs": [],
   "source": [
    "import hashlib\n",
    "import json\n",
    "import os\n",
    "from pathlib import Path\n",
    "import subprocess"
   ]
  },
  {
   "cell_type": "code",
   "execution_count": 4,
   "metadata": {},
   "outputs": [],
   "source": [
    "BASE_DIR = Path().resolve().parent"
   ]
  },
  {
   "cell_type": "code",
   "execution_count": 5,
   "metadata": {},
   "outputs": [],
   "source": [
    "transform_script = BASE_DIR / \"etl\" / \"transform\" / \"vendas_transform\" / \"tratar_vendas.py\"\n",
    "load_script = BASE_DIR / \"etl\" / \"load\" / \"vendas_load\" / \"load_vendas.py\""
   ]
  },
  {
   "cell_type": "code",
   "execution_count": 6,
   "metadata": {},
   "outputs": [],
   "source": [
    "RAW_FODLER = Path(\"../data/raw\")\n",
    "HASH_TRACKER = Path(\"config/hash_tracker.json\")"
   ]
  },
  {
   "cell_type": "code",
   "execution_count": 7,
   "metadata": {},
   "outputs": [],
   "source": [
    "def calcular_hash_md5(caminho_arquivo):\n",
    "    with open(caminho_arquivo, \"rb\") as f:\n",
    "        return hashlib.md5(f.read()).hexdigest()\n",
    "    \n",
    "def carregar_hashes_anteriores():\n",
    "    if not HASH_TRACKER.exists():\n",
    "        return {}\n",
    "    with open(HASH_TRACKER, \"r\") as f:\n",
    "        return json.load(f)\n",
    "    \n",
    "def salvar_hashes_atuais(hashes):\n",
    "    HASH_TRACKER.parent.mkdir(parents=True, exist_ok=True)\n",
    "    with open(HASH_TRACKER, \"w\") as f:\n",
    "        json.dump(hashes, f, indent=2)\n",
    "\n",
    "def encontrar_csvs(pasta_base):\n",
    "    return list(pasta_base.rglob(\"*.csv\"))\n",
    "\n",
    "def cliente_do_arquivo(caminho_arquivo):\n",
    "    \"\"\"\n",
    "    Extrai o nome do cliente com base no padrão: data/raw/{cliente}_raw\n",
    "    \"\"\"\n",
    "\n",
    "    partes = Path(caminho_arquivo).parts\n",
    "    try:\n",
    "        idx_raw = partes.index(\"raw\")\n",
    "        pasta_cliente = partes[idx_raw - 1]\n",
    "        return pasta_cliente.replace(\"_raw\", \"\")\n",
    "    except:\n",
    "        return \"nome desconhecido\"\n",
    "\n",
    "def main():\n",
    "    arquivos = encontrar_csvs(RAW_FODLER)\n",
    "    hashes_anteriores = carregar_hashes_anteriores()\n",
    "    novos_hashes = {}\n",
    "\n",
    "    arquivos_alterados = []\n",
    "\n",
    "\n",
    "    for arquivo in arquivos:\n",
    "        hash_atual = calcular_hash_md5(arquivo)\n",
    "        caminho_str = str(arquivo)\n",
    "\n",
    "        if hashes_anteriores.get(caminho_str) != hash_atual:\n",
    "            print(f\"🟢 Alteração detectada: {caminho_str}\")\n",
    "            arquivos_alterados.append(caminho_str)            \n",
    "\n",
    "        novos_hashes[caminho_str] = hash_atual\n",
    "\n",
    "    if arquivos_alterados:\n",
    "\n",
    "        subprocess.run([\"python\", str(transform_script)], check=True)\n",
    "        subprocess.run([\"python\", str(load_script)], check=True)\n",
    "\n",
    "\n",
    "        print(\"🔄 Arquivos alterados:\")\n",
    "        for arquivo in arquivos_alterados:\n",
    "            print(f\" - {arquivo}\")\n",
    "        print(\"🚀 Executar pipeline para arquivos modificados!\")\n",
    "    else:\n",
    "        print(\"🟡 Nenhuma modificação encontrada.\")\n",
    "\n",
    "    salvar_hashes_atuais(novos_hashes)\n",
    "        "
   ]
  },
  {
   "cell_type": "code",
   "execution_count": 8,
   "metadata": {},
   "outputs": [
    {
     "name": "stdout",
     "output_type": "stream",
     "text": [
      "🟢 Alteração detectada: ../data/raw/vendas_raw/base_vendas_supermercado_suja.csv\n",
      "📥 Linhas novas detectadas: 0\n",
      "✅ Nenhuma nova linha para inserir.\n",
      "🔄 Arquivos alterados:\n",
      " - ../data/raw/vendas_raw/base_vendas_supermercado_suja.csv\n",
      "🚀 Executar pipeline para arquivos modificados!\n"
     ]
    }
   ],
   "source": [
    "if __name__ == \"__main__\":\n",
    "    main()\n",
    "   "
   ]
  }
 ],
 "metadata": {
  "kernelspec": {
   "display_name": "venv",
   "language": "python",
   "name": "python3"
  },
  "language_info": {
   "codemirror_mode": {
    "name": "ipython",
    "version": 3
   },
   "file_extension": ".py",
   "mimetype": "text/x-python",
   "name": "python",
   "nbconvert_exporter": "python",
   "pygments_lexer": "ipython3",
   "version": "3.10.12"
  }
 },
 "nbformat": 4,
 "nbformat_minor": 2
}
