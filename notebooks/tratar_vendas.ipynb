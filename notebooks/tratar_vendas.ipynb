{
 "cells": [
  {
   "cell_type": "code",
   "execution_count": 22,
   "metadata": {},
   "outputs": [],
   "source": [
    "# imports\n",
    "import os\n",
    "import pandas as pd\n",
    "import numpy as np\n",
    "from pathlib import Path"
   ]
  },
  {
   "cell_type": "code",
   "execution_count": null,
   "metadata": {},
   "outputs": [],
   "source": [
    "# Estrutura de diretórios\n",
    "\n",
    "# empresa-lucas-dashboard/\n",
    "# ├── data/\n",
    "# │   ├── raw/base_vendas_supermercado_suja.csv\n",
    "# │   └── processed/base_vendas_tratada.csv  ← vamos gerar aqui\n",
    "# ├── etl/\n",
    "# │   └── transform/tratar_vendas.py         ← script a ser criado\n",
    "# ├── notebooks/\n",
    "# │   └── tratar_vendas.ipynb           ← notebook a ser criado     \n"
   ]
  },
  {
   "cell_type": "code",
   "execution_count": null,
   "metadata": {},
   "outputs": [],
   "source": [
    "# caminhos\n",
    "\n",
    "BASE_DIR = str(Path(os.getcwd()).resolve().parents[0])  # Para rodar no Jupyter Notebook\n",
    "input_path = f\"{BASE_DIR}/data/raw/vendas_raw/base_vendas_supermercado_suja.csv\"\n",
    "output_path = f\"{BASE_DIR}/data/processed/vendas_processed/base_vendas_tratada.csv\"\n"
   ]
  },
  {
   "cell_type": "code",
   "execution_count": 46,
   "metadata": {},
   "outputs": [],
   "source": [
    "# Funções\n",
    "def transform_2_df(input_path):\n",
    "    df = pd.read_csv(input_path)\n",
    "    return df\n",
    "\n",
    "def tratar_desconto(valor):\n",
    "    \"\"\"\n",
    "    Output: valor na -> 0 \n",
    "    Padronização dos dados: Se linha possui \"%\" -> ficará vazia \"\"\n",
    "    \"\"\"\n",
    "    if pd.isna(valor):\n",
    "        return 0.0\n",
    "    if isinstance(valor, str):\n",
    "        valor = valor.replace(\"%\", \"\")\n",
    "    try:\n",
    "        return float(valor)\n",
    "    except:\n",
    "        return 0.0"
   ]
  },
  {
   "cell_type": "code",
   "execution_count": null,
   "metadata": {},
   "outputs": [
    {
     "data": {
      "text/html": [
       "<div>\n",
       "<style scoped>\n",
       "    .dataframe tbody tr th:only-of-type {\n",
       "        vertical-align: middle;\n",
       "    }\n",
       "\n",
       "    .dataframe tbody tr th {\n",
       "        vertical-align: top;\n",
       "    }\n",
       "\n",
       "    .dataframe thead th {\n",
       "        text-align: right;\n",
       "    }\n",
       "</style>\n",
       "<table border=\"1\" class=\"dataframe\">\n",
       "  <thead>\n",
       "    <tr style=\"text-align: right;\">\n",
       "      <th></th>\n",
       "      <th>Data da Venda</th>\n",
       "      <th>Produto</th>\n",
       "      <th>Categoria</th>\n",
       "      <th>Quantidade</th>\n",
       "      <th>Preço Unitário (R$)</th>\n",
       "      <th>Total (R$)</th>\n",
       "      <th>Vendedor</th>\n",
       "      <th>Forma de Pagamento</th>\n",
       "      <th>Cliente</th>\n",
       "      <th>Desconto</th>\n",
       "    </tr>\n",
       "  </thead>\n",
       "  <tbody>\n",
       "    <tr>\n",
       "      <th>0</th>\n",
       "      <td>02/03/2025</td>\n",
       "      <td>Leite</td>\n",
       "      <td>Bebidas</td>\n",
       "      <td>7</td>\n",
       "      <td>6.03</td>\n",
       "      <td>42.21</td>\n",
       "      <td>JOÃO</td>\n",
       "      <td>Dinheiro</td>\n",
       "      <td>Cliente B</td>\n",
       "      <td>0.05</td>\n",
       "    </tr>\n",
       "    <tr>\n",
       "      <th>1</th>\n",
       "      <td>25/03/2025</td>\n",
       "      <td>Papel Higiênico</td>\n",
       "      <td>Higiene</td>\n",
       "      <td>16</td>\n",
       "      <td>13.90</td>\n",
       "      <td>222.40</td>\n",
       "      <td>Carlos</td>\n",
       "      <td>Dinheiro</td>\n",
       "      <td>Cliente A</td>\n",
       "      <td>5%</td>\n",
       "    </tr>\n",
       "    <tr>\n",
       "      <th>2</th>\n",
       "      <td>18/03/2025</td>\n",
       "      <td>Arroz</td>\n",
       "      <td>Alimentos</td>\n",
       "      <td>17</td>\n",
       "      <td>5.17</td>\n",
       "      <td>87.89</td>\n",
       "      <td>João</td>\n",
       "      <td>cartao</td>\n",
       "      <td>CLIENTE C</td>\n",
       "      <td>NaN</td>\n",
       "    </tr>\n",
       "    <tr>\n",
       "      <th>3</th>\n",
       "      <td>03/03/2025</td>\n",
       "      <td>Desinfetante</td>\n",
       "      <td>Limpeza</td>\n",
       "      <td>1</td>\n",
       "      <td>9.85</td>\n",
       "      <td>9.85</td>\n",
       "      <td>ana</td>\n",
       "      <td>cartao</td>\n",
       "      <td>Cliente A</td>\n",
       "      <td>0%</td>\n",
       "    </tr>\n",
       "    <tr>\n",
       "      <th>4</th>\n",
       "      <td>25/03/2025</td>\n",
       "      <td>Macarrão</td>\n",
       "      <td>Alimentos</td>\n",
       "      <td>3</td>\n",
       "      <td>13.92</td>\n",
       "      <td>41.76</td>\n",
       "      <td>João</td>\n",
       "      <td>Dinheiro</td>\n",
       "      <td>Cliente B</td>\n",
       "      <td>5%</td>\n",
       "    </tr>\n",
       "  </tbody>\n",
       "</table>\n",
       "</div>"
      ],
      "text/plain": [
       "  Data da Venda          Produto  Categoria  Quantidade  Preço Unitário (R$)  \\\n",
       "0    02/03/2025            Leite    Bebidas           7                 6.03   \n",
       "1    25/03/2025  Papel Higiênico    Higiene          16                13.90   \n",
       "2    18/03/2025            Arroz  Alimentos          17                 5.17   \n",
       "3    03/03/2025     Desinfetante    Limpeza           1                 9.85   \n",
       "4    25/03/2025         Macarrão  Alimentos           3                13.92   \n",
       "\n",
       "   Total (R$) Vendedor Forma de Pagamento    Cliente Desconto  \n",
       "0       42.21     JOÃO           Dinheiro  Cliente B     0.05  \n",
       "1      222.40   Carlos           Dinheiro  Cliente A       5%  \n",
       "2       87.89     João             cartao  CLIENTE C      NaN  \n",
       "3        9.85      ana             cartao  Cliente A       0%  \n",
       "4       41.76     João           Dinheiro  Cliente B       5%  "
      ]
     },
     "execution_count": 44,
     "metadata": {},
     "output_type": "execute_result"
    }
   ],
   "source": [
    "df_base_vendas_supermercado = transform_2_df(input_path)"
   ]
  },
  {
   "cell_type": "code",
   "execution_count": 54,
   "metadata": {},
   "outputs": [],
   "source": [
    "# Tratando dados\n",
    "# \n",
    "df_base_vendas_supermercado[\"Data da Venda\"] = pd.to_datetime(df_base_vendas_supermercado[\"Data da Venda\"], dayfirst=True)\n",
    "df_base_vendas_supermercado[\"Vendedor\"] = df_base_vendas_supermercado[\"Vendedor\"].str.strip().str.title()\n",
    "df_base_vendas_supermercado[\"Cliente\"] = df_base_vendas_supermercado[\"Cliente\"].str.strip().str.title()\n",
    "df_base_vendas_supermercado[\"Forma de Pagamento\"] = df_base_vendas_supermercado[\"Forma de Pagamento\"].str.strip().str.capitalize()"
   ]
  },
  {
   "cell_type": "code",
   "execution_count": null,
   "metadata": {},
   "outputs": [
    {
     "data": {
      "text/plain": [
       "0      Dinheiro\n",
       "1      Dinheiro\n",
       "2        Cartao\n",
       "3        Cartao\n",
       "4      Dinheiro\n",
       "         ...   \n",
       "195         Pix\n",
       "196      Cartao\n",
       "197    Dinheiro\n",
       "198         Pix\n",
       "199      Cartao\n",
       "Name: Forma de Pagamento, Length: 200, dtype: object"
      ]
     },
     "execution_count": 55,
     "metadata": {},
     "output_type": "execute_result"
    }
   ],
   "source": []
  },
  {
   "cell_type": "code",
   "execution_count": 56,
   "metadata": {},
   "outputs": [],
   "source": [
    "df_base_vendas_supermercado['Desconto'] = df_base_vendas_supermercado[\"Desconto\"].apply(tratar_desconto)\n",
    "df_base_vendas_supermercado['Desconto (%)'] = df_base_vendas_supermercado[\"Desconto\"]\n",
    "df_base_vendas_supermercado[\"Total com Desconto (R$)\"] = df_base_vendas_supermercado[\"Total (R$)\"] * (1 - df_base_vendas_supermercado[\"Desconto\"] / 100)"
   ]
  },
  {
   "cell_type": "code",
   "execution_count": 58,
   "metadata": {},
   "outputs": [],
   "source": [
    "# Dropando colunas desnecessárias\n",
    "df_base_vendas_supermercado.drop(columns=[\"Desconto\"], inplace=True)"
   ]
  },
  {
   "cell_type": "code",
   "execution_count": 60,
   "metadata": {},
   "outputs": [],
   "source": [
    "# Exportando CSV\n",
    "df_base_vendas_supermercado.to_csv(output_path, index=False)"
   ]
  },
  {
   "cell_type": "code",
   "execution_count": 1,
   "metadata": {},
   "outputs": [
    {
     "name": "stdout",
     "output_type": "stream",
     "text": [
      "[jupytext] Reading /home/lucas/Documentos/empresa-lucas-dashboard/notebooks/tratar_vendas.ipynb in format ipynb\n",
      "[jupytext] Writing /home/lucas/Documentos/empresa-lucas-dashboard/etl/transform/tratar_vendas.py (destination file replaced)\n"
     ]
    }
   ],
   "source": [
    "# # pegar caminho atual\n",
    "caminho_raiz = '/home/lucas/Documentos/empresa-lucas-dashboard'\n",
    "\n",
    "# # sincronizar para o arquivo .py\n",
    "!jupytext --to py $caminho_raiz/notebooks/tratar_vendas.ipynb -o $caminho_raiz/etl/transform/tratar_vendas.py"
   ]
  }
 ],
 "metadata": {
  "kernelspec": {
   "display_name": "venv",
   "language": "python",
   "name": "python3"
  },
  "language_info": {
   "codemirror_mode": {
    "name": "ipython",
    "version": 3
   },
   "file_extension": ".py",
   "mimetype": "text/x-python",
   "name": "python",
   "nbconvert_exporter": "python",
   "pygments_lexer": "ipython3",
   "version": "3.10.12"
  }
 },
 "nbformat": 4,
 "nbformat_minor": 2
}
